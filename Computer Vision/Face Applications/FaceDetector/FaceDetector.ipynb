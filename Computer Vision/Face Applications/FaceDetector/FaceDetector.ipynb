{
 "cells": [
  {
   "cell_type": "code",
   "execution_count": 1,
   "metadata": {},
   "outputs": [],
   "source": [
    "import torch, torchvision\n",
    "import os, json\n",
    "from shutil import copy, move, rmtree\n",
    "import numpy as np\n",
    "import matplotlib.pyplot as plt\n",
    "import pandas as pd\n",
    "import random \n",
    "\n",
    "random.seed(0)"
   ]
  },
  {
   "cell_type": "markdown",
   "metadata": {},
   "source": [
    "# Data Preparation"
   ]
  },
  {
   "cell_type": "markdown",
   "metadata": {},
   "source": [
    "Le jeu de données contient plus que 12000 images, de différentes situations (Groupe - Entretien - Concert - etc).\n",
    "\n",
    "Faute de capacité de calcul (je n'ai pas de GPU) je vais me limiter à 3000 images : \n",
    "\n",
    "* 2300 images pour l'entrainement.\n",
    "* 700 images pour le test.\n",
    "\n",
    "Afin d'avoir un jeu de données bien representatif du jeu de données complet, je vais choisir 3000 images à partir de toutes les situations possible.\n",
    "\n"
   ]
  },
  {
   "cell_type": "code",
   "execution_count": 2,
   "metadata": {},
   "outputs": [],
   "source": [
    "from config import IMAGE_FOLDER, ANNOTATION_FOLDER, DATAPATH\n",
    "os.makedirs(os.path.join(DATAPATH, IMAGE_FOLDER), exist_ok=True)\n",
    "os.makedirs(os.path.join(DATAPATH, ANNOTATION_FOLDER), exist_ok=True)"
   ]
  },
  {
   "cell_type": "code",
   "execution_count": 3,
   "metadata": {},
   "outputs": [
    {
     "data": {
      "text/plain": [
       "'dataset/annotations/annotations.txt'"
      ]
     },
     "execution_count": 3,
     "metadata": {},
     "output_type": "execute_result"
    }
   ],
   "source": [
    "from config import RAW_DATAPATH, NB_IMAGES\n",
    "\n",
    "# path to raw images\n",
    "raw_image_folder = os.path.join(RAW_DATAPATH, IMAGE_FOLDER)\n",
    "# number of situations\n",
    "situations = os.listdir(raw_image_folder)\n",
    "nb_situations = len(situations)\n",
    "# number of images per situation in order to gather 3000 images\n",
    "nb_images_per_situation = NB_IMAGES // nb_situations\n",
    "# number of images to add to attain exactly 3000 images\n",
    "rest = NB_IMAGES - nb_images_per_situation * nb_situations\n",
    "\n",
    "# choose a situation from which\n",
    "# we will take the rest of the images.\n",
    "data_distribution = {}\n",
    "for situation in situations:\n",
    "    folder_path = os.path.join(raw_image_folder, situation)\n",
    "    data_distribution[situation] = len(os.listdir(folder_path))\n",
    "\n",
    "rest_origin = None # from where to take the rest of the images\n",
    "for situation in data_distribution.keys():\n",
    "    nb_images = data_distribution[situation]\n",
    "    if nb_images > nb_images_per_situation + rest:\n",
    "        rest_origin = situation\n",
    "        break;\n",
    "\n",
    "\n",
    "# Copy the 3000 images into the dataset folder.\n",
    "image_folder = os.path.join(DATAPATH, IMAGE_FOLDER)\n",
    "if len(os.listdir(image_folder)) < NB_IMAGES:\n",
    "    # If we still did not copy the image \n",
    "    # then we do it here\n",
    "    for situation in situations:\n",
    "        folder_path = os.path.join(raw_image_folder, situation)\n",
    "        images = os.listdir(folder_path)\n",
    "        if situation == rest_origin:\n",
    "            images = images[:nb_images_per_situation + rest]\n",
    "        else:\n",
    "            images = images[:nb_images_per_situation]\n",
    "        for image_name in images:\n",
    "            image_path = os.path.join(folder_path, image_name)\n",
    "            new_image_path = os.path.join(image_folder, image_name)\n",
    "            copy(image_path, new_image_path)\n",
    "\n",
    "# copy the annotations file\n",
    "annot_filename = \"annotations.txt\"\n",
    "raw_annot_filepath = os.path.join(RAW_DATAPATH, ANNOTATION_FOLDER, annot_filename)\n",
    "annot_filepath = os.path.join(DATAPATH, ANNOTATION_FOLDER, annot_filename)\n",
    "copy(raw_annot_filepath, annot_filepath)"
   ]
  },
  {
   "cell_type": "markdown",
   "metadata": {},
   "source": [
    "Maintenant, je vais diviser le jeu de données en deux:\n",
    "* jeu de données d'entrainement (2300 images).\n",
    "* jeu de données de test (700 images)."
   ]
  },
  {
   "cell_type": "code",
   "execution_count": 4,
   "metadata": {},
   "outputs": [],
   "source": [
    "from config import TRAIN_DATAPATH, TEST_DATAPATH\n",
    "\n",
    "# TRAIN\n",
    "os.makedirs(os.path.join(TRAIN_DATAPATH, IMAGE_FOLDER), exist_ok = True)\n",
    "os.makedirs(os.path.join(TRAIN_DATAPATH, ANNOTATION_FOLDER), exist_ok = True)\n",
    "# TEST\n",
    "os.makedirs(os.path.join(TEST_DATAPATH, IMAGE_FOLDER), exist_ok = True)\n",
    "os.makedirs(os.path.join(TEST_DATAPATH, ANNOTATION_FOLDER), exist_ok = True)"
   ]
  },
  {
   "cell_type": "code",
   "execution_count": 5,
   "metadata": {},
   "outputs": [],
   "source": [
    "from config import NB_IMAGES_TRAIN, NB_IMAGES_TEST\n",
    "\n",
    "image_folder = os.path.join(DATAPATH, IMAGE_FOLDER)\n",
    "images = sorted(os.listdir(image_folder)) # sort to have same order in any OS.\n",
    "\n",
    "# Select the indices of test images at random\n",
    "indices = random.sample(range(NB_IMAGES), NB_IMAGES_TEST)\n",
    "\n",
    "# Move the test images to the corresponding folder\n",
    "for i in indices:\n",
    "    image_name = images[i]\n",
    "    image_path = os.path.join(image_folder, image_name)\n",
    "    new_image_path = os.path.join(TEST_DATAPATH, IMAGE_FOLDER, image_name)\n",
    "    move(image_path, new_image_path)\n",
    "\n",
    "# Update the list of images\n",
    "# All that is left are the training images.\n",
    "images = sorted(os.listdir(image_folder))\n",
    "for image_name in images:\n",
    "    image_path = os.path.join(image_folder, image_name)\n",
    "    new_image_path = os.path.join(TRAIN_DATAPATH, IMAGE_FOLDER, image_name)\n",
    "    move(image_path, new_image_path)\n",
    "\n",
    "# Delete the image directory \n",
    "os.rmdir(image_folder)"
   ]
  },
  {
   "cell_type": "markdown",
   "metadata": {},
   "source": [
    "Il reste qu'à créer les deux fichiers d'annotations pour les deux datasets."
   ]
  },
  {
   "cell_type": "code",
   "execution_count": 7,
   "metadata": {},
   "outputs": [
    {
     "name": "stdout",
     "output_type": "stream",
     "text": [
      "Total Lines 185184\n"
     ]
    }
   ],
   "source": [
    "# TRAIN FOLDERS PATH\n",
    "TRAIN_IMAGE_FOLDER = os.path.join(TRAIN_DATAPATH, IMAGE_FOLDER)\n",
    "\n",
    "# TEST FOLDERS PATH\n",
    "TEST_IMAGE_FOLDER = os.path.join(TEST_DATAPATH, IMAGE_FOLDER)\n",
    "\n",
    "# LISTS OF IMAGES FOR EACH DATASET\n",
    "train_images = os.listdir(TRAIN_IMAGE_FOLDER)\n",
    "test_images = os.listdir(TEST_IMAGE_FOLDER)\n",
    "\n",
    "# INITIALIZE EACH DATASET ANNOTATIONS\n",
    "train_annot = []\n",
    "test_annot = []\n",
    "\n",
    "# ITERATE OVER THE FILE AND GET THE ANNOTATIONS\n",
    "with open(annot_filepath, \"r\") as fp:\n",
    "    # Number of lines in the file\n",
    "    for count, line in enumerate(fp):\n",
    "        pass\n",
    "\n",
    "count += 1\n",
    "print('Total Lines', count)\n",
    "\n",
    "f = open(annot_filepath, \"r\")\n",
    "c = 0\n",
    "while c < count:\n",
    "    # get filename\n",
    "    filepath = f.readline()\n",
    "    filename = filepath.split(\"/\")[-1]\n",
    "    filename = filename.strip()\n",
    "    c += 1\n",
    "    # get number of faces/boxes\n",
    "    nb_boxes = int(f.readline())\n",
    "    c += 1\n",
    "    if nb_boxes == 0 : nb_boxes = 1\n",
    "    # collect the boxes\n",
    "    boxes = []\n",
    "    for i in range(nb_boxes):\n",
    "        line = f.readline()\n",
    "        c += 1\n",
    "        info = line.split(\" \")\n",
    "        box  = [int(info[i]) for i in range(4)]\n",
    "        boxes.append(box)\n",
    "    # check wether it is a training image,\n",
    "    # a testing image, or neither one of the two.\n",
    "    if filename in train_images:\n",
    "        train_annot.append({\n",
    "            \"filename\": filename,\n",
    "            \"boxes\": boxes\n",
    "        })\n",
    "    elif filename in test_images:\n",
    "        test_images.append({\n",
    "            \"filename\": filename,\n",
    "            \"boxes\": boxes\n",
    "        })\n",
    "    else:\n",
    "        pass\n",
    "\n",
    "f.close()"
   ]
  },
  {
   "cell_type": "code",
   "execution_count": 11,
   "metadata": {},
   "outputs": [],
   "source": [
    "# TRAIN FOLDERS PATH\n",
    "import shutil\n",
    "\n",
    "\n",
    "TRAIN_ANNOT_FOLDER = os.path.join(TRAIN_DATAPATH, ANNOTATION_FOLDER)\n",
    "\n",
    "# TEST FOLDERS PATH\n",
    "TEST_ANNOT_FOLDER = os.path.join(TEST_DATAPATH, ANNOTATION_FOLDER)\n",
    "\n",
    "# SAVE THE ANNOTATIONS\n",
    "train_annot_filename = \"train.json\"\n",
    "train_annot_filepath = os.path.join(TRAIN_ANNOT_FOLDER, train_annot_filename)\n",
    "with open(train_annot_filepath, \"w\") as f:\n",
    "    f.write(json.dumps(train_annot))\n",
    "\n",
    "test_annot_filename = \"test.json\"\n",
    "test_annot_filepath = os.path.join(TEST_ANNOT_FOLDER, test_annot_filename)\n",
    "with open(test_annot_filepath, \"w\") as f:\n",
    "    f.write(json.dumps(test_annot))\n",
    "\n",
    "# DELETE UNECESSARY FOLDER\n",
    "rmtree(os.path.join(DATAPATH, ANNOTATION_FOLDER))"
   ]
  },
  {
   "cell_type": "code",
   "execution_count": null,
   "metadata": {},
   "outputs": [],
   "source": []
  }
 ],
 "metadata": {
  "kernelspec": {
   "display_name": "Python 3.9.7 ('env': venv)",
   "language": "python",
   "name": "python3"
  },
  "language_info": {
   "codemirror_mode": {
    "name": "ipython",
    "version": 3
   },
   "file_extension": ".py",
   "mimetype": "text/x-python",
   "name": "python",
   "nbconvert_exporter": "python",
   "pygments_lexer": "ipython3",
   "version": "3.9.7"
  },
  "orig_nbformat": 4,
  "vscode": {
   "interpreter": {
    "hash": "a4897dacae7d7d775ea06d49570235525bb3958144ebcf4ed8be1a37c78e1abb"
   }
  }
 },
 "nbformat": 4,
 "nbformat_minor": 2
}
